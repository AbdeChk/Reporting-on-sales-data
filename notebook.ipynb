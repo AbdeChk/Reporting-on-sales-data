{
 "cells": [
  {
   "cell_type": "markdown",
   "id": "286735da-4a12-429b-81bf-d861be3ef6c9",
   "metadata": {},
   "source": [
    "## 💪 Challenge\n",
    "### Create a report to answer your colleague's questions. Include:\n",
    "\n",
    "### 1. What are the total sales for each payment method?\n",
    "### 2. What is the average unit price for each product line?\n",
    "### 3. Create plots to visualize findings for questions 1 and 2.\n",
    "### 4. [Optional] Investigate further (e.g., average purchase value by client type, total purchase value by product line, etc.)\n",
    "### 5. Summarize your findings."
   ]
  },
  {
   "cell_type": "code",
   "execution_count": null,
   "id": "70a3b9bd",
   "metadata": {},
   "outputs": [
    {
     "data": {
      "application/com.datacamp.data-table.v1+json": {
       "is_truncated": false,
       "table": {
        "data": [
         {
          "client_type": "Retail",
          "date": "2021-06-01T00:00:00.000Z",
          "index": 0,
          "payment": "Credit card",
          "product_line": "Miscellaneous",
          "quantity": 8,
          "total": 134.83,
          "unit_price": 16.85,
          "warehouse": "Central"
         },
         {
          "client_type": "Retail",
          "date": "2021-06-01T00:00:00.000Z",
          "index": 1,
          "payment": "Cash",
          "product_line": "Breaking system",
          "quantity": 9,
          "total": 173.61,
          "unit_price": 19.29,
          "warehouse": "North"
         },
         {
          "client_type": "Retail",
          "date": "2021-06-01T00:00:00.000Z",
          "index": 2,
          "payment": "Credit card",
          "product_line": "Suspension & traction",
          "quantity": 8,
          "total": 263.45,
          "unit_price": 32.93,
          "warehouse": "North"
         },
         {
          "client_type": "Wholesale",
          "date": "2021-06-01T00:00:00.000Z",
          "index": 3,
          "payment": "Transfer",
          "product_line": "Frame & body",
          "quantity": 16,
          "total": 605.44,
          "unit_price": 37.84,
          "warehouse": "North"
         },
         {
          "client_type": "Retail",
          "date": "2021-06-01T00:00:00.000Z",
          "index": 4,
          "payment": "Credit card",
          "product_line": "Engine",
          "quantity": 2,
          "total": 120.96,
          "unit_price": 60.48,
          "warehouse": "Central"
         }
        ],
        "schema": {
         "fields": [
          {
           "name": "index",
           "type": "integer"
          },
          {
           "name": "date",
           "type": "datetime"
          },
          {
           "name": "warehouse",
           "type": "string"
          },
          {
           "name": "client_type",
           "type": "string"
          },
          {
           "name": "product_line",
           "type": "string"
          },
          {
           "name": "quantity",
           "type": "integer"
          },
          {
           "name": "unit_price",
           "type": "number"
          },
          {
           "name": "total",
           "type": "number"
          },
          {
           "name": "payment",
           "type": "string"
          }
         ],
         "pandas_version": "0.20.0",
         "primaryKey": [
          "index"
         ]
        }
       },
       "total_rows": 5
      },
      "text/html": [
       "<div>\n",
       "<style scoped>\n",
       "    .dataframe tbody tr th:only-of-type {\n",
       "        vertical-align: middle;\n",
       "    }\n",
       "\n",
       "    .dataframe tbody tr th {\n",
       "        vertical-align: top;\n",
       "    }\n",
       "\n",
       "    .dataframe thead th {\n",
       "        text-align: right;\n",
       "    }\n",
       "</style>\n",
       "<table border=\"1\" class=\"dataframe\">\n",
       "  <thead>\n",
       "    <tr style=\"text-align: right;\">\n",
       "      <th></th>\n",
       "      <th>date</th>\n",
       "      <th>warehouse</th>\n",
       "      <th>client_type</th>\n",
       "      <th>product_line</th>\n",
       "      <th>quantity</th>\n",
       "      <th>unit_price</th>\n",
       "      <th>total</th>\n",
       "      <th>payment</th>\n",
       "    </tr>\n",
       "  </thead>\n",
       "  <tbody>\n",
       "    <tr>\n",
       "      <th>0</th>\n",
       "      <td>2021-06-01</td>\n",
       "      <td>Central</td>\n",
       "      <td>Retail</td>\n",
       "      <td>Miscellaneous</td>\n",
       "      <td>8</td>\n",
       "      <td>16.85</td>\n",
       "      <td>134.83</td>\n",
       "      <td>Credit card</td>\n",
       "    </tr>\n",
       "    <tr>\n",
       "      <th>1</th>\n",
       "      <td>2021-06-01</td>\n",
       "      <td>North</td>\n",
       "      <td>Retail</td>\n",
       "      <td>Breaking system</td>\n",
       "      <td>9</td>\n",
       "      <td>19.29</td>\n",
       "      <td>173.61</td>\n",
       "      <td>Cash</td>\n",
       "    </tr>\n",
       "    <tr>\n",
       "      <th>2</th>\n",
       "      <td>2021-06-01</td>\n",
       "      <td>North</td>\n",
       "      <td>Retail</td>\n",
       "      <td>Suspension &amp; traction</td>\n",
       "      <td>8</td>\n",
       "      <td>32.93</td>\n",
       "      <td>263.45</td>\n",
       "      <td>Credit card</td>\n",
       "    </tr>\n",
       "    <tr>\n",
       "      <th>3</th>\n",
       "      <td>2021-06-01</td>\n",
       "      <td>North</td>\n",
       "      <td>Wholesale</td>\n",
       "      <td>Frame &amp; body</td>\n",
       "      <td>16</td>\n",
       "      <td>37.84</td>\n",
       "      <td>605.44</td>\n",
       "      <td>Transfer</td>\n",
       "    </tr>\n",
       "    <tr>\n",
       "      <th>4</th>\n",
       "      <td>2021-06-01</td>\n",
       "      <td>Central</td>\n",
       "      <td>Retail</td>\n",
       "      <td>Engine</td>\n",
       "      <td>2</td>\n",
       "      <td>60.48</td>\n",
       "      <td>120.96</td>\n",
       "      <td>Credit card</td>\n",
       "    </tr>\n",
       "  </tbody>\n",
       "</table>\n",
       "</div>"
      ],
      "text/plain": [
       "        date warehouse client_type           product_line  quantity  \\\n",
       "0 2021-06-01   Central      Retail          Miscellaneous         8   \n",
       "1 2021-06-01     North      Retail        Breaking system         9   \n",
       "2 2021-06-01     North      Retail  Suspension & traction         8   \n",
       "3 2021-06-01     North   Wholesale           Frame & body        16   \n",
       "4 2021-06-01   Central      Retail                 Engine         2   \n",
       "\n",
       "   unit_price   total      payment  \n",
       "0       16.85  134.83  Credit card  \n",
       "1       19.29  173.61         Cash  \n",
       "2       32.93  263.45  Credit card  \n",
       "3       37.84  605.44     Transfer  \n",
       "4       60.48  120.96  Credit card  "
      ]
     },
     "execution_count": 26,
     "metadata": {},
     "output_type": "execute_result"
    }
   ],
   "source": [
    "# Importing modules\n",
    "import pandas as pd\n",
    "import matplotlib.pyplot as plt\n",
    "import seaborn as sns\n",
    "import numpy as np\n",
    "\n",
    "df = pd.read_csv('data/sales_data.csv', parse_dates=['date'])\n",
    "df.head()\n",
    "#first 5 first datapoints"
   ]
  },
  {
   "cell_type": "markdown",
   "id": "35b326bc-767d-4cc7-a995-86b48559bf07",
   "metadata": {},
   "source": [
    "## data columns: \n",
    "### \"date\" -> The date, from June to August 2021.\n",
    "### \"warehouse\" -> The company operates three warehouses: North, Central, and West.\n",
    "### \"client_type\" -> There are two types of customers: Retail and Wholesale.\n",
    "### \"product_line\" -> Type of products purchased.\n",
    "### \"quantity\" -> How many items were purchased.\n",
    "### \"unit_price\" -> Price per item sold.\n",
    "### \"total\" -> Total sale = quantity * unit_price.\n",
    "### \"payment\" -> How the client paid: Cash, Credit card, Transfer."
   ]
  },
  {
   "cell_type": "markdown",
   "id": "0eeffa26-9a3a-4b2d-b937-6630f0289a6a",
   "metadata": {},
   "source": [
    "# Statistical summary\n"
   ]
  },
  {
   "cell_type": "code",
   "execution_count": null,
   "id": "c5f8cd58-140d-4f7b-a3ab-4d170108b65e",
   "metadata": {},
   "outputs": [
    {
     "data": {
      "application/com.datacamp.data-table.v1+json": {
       "is_truncated": false,
       "table": {
        "data": [
         {
          "index": "count",
          "quantity": 1000,
          "total": 1000,
          "unit_price": 1000
         },
         {
          "index": "mean",
          "quantity": 9.395,
          "total": 289.113,
          "unit_price": 30.32204
         },
         {
          "index": "std",
          "quantity": 9.6592067622,
          "total": 345.2275964464,
          "unit_price": 12.2564880344
         },
         {
          "index": "min",
          "quantity": 1,
          "total": 10.35,
          "unit_price": 10.03
         },
         {
          "index": "25%",
          "quantity": 4,
          "total": 93.6875,
          "unit_price": 21.085
         },
         {
          "index": "50%",
          "quantity": 6.5,
          "total": 178.36,
          "unit_price": 28.57
         },
         {
          "index": "75%",
          "quantity": 10,
          "total": 321.69,
          "unit_price": 37.9175
         },
         {
          "index": "max",
          "quantity": 40,
          "total": 2546.33,
          "unit_price": 66.62
         }
        ],
        "schema": {
         "fields": [
          {
           "name": "index",
           "type": "string"
          },
          {
           "name": "quantity",
           "type": "number"
          },
          {
           "name": "unit_price",
           "type": "number"
          },
          {
           "name": "total",
           "type": "number"
          }
         ],
         "pandas_version": "0.20.0",
         "primaryKey": [
          "index"
         ]
        }
       },
       "total_rows": 8
      },
      "text/html": [
       "<div>\n",
       "<style scoped>\n",
       "    .dataframe tbody tr th:only-of-type {\n",
       "        vertical-align: middle;\n",
       "    }\n",
       "\n",
       "    .dataframe tbody tr th {\n",
       "        vertical-align: top;\n",
       "    }\n",
       "\n",
       "    .dataframe thead th {\n",
       "        text-align: right;\n",
       "    }\n",
       "</style>\n",
       "<table border=\"1\" class=\"dataframe\">\n",
       "  <thead>\n",
       "    <tr style=\"text-align: right;\">\n",
       "      <th></th>\n",
       "      <th>quantity</th>\n",
       "      <th>unit_price</th>\n",
       "      <th>total</th>\n",
       "    </tr>\n",
       "  </thead>\n",
       "  <tbody>\n",
       "    <tr>\n",
       "      <th>count</th>\n",
       "      <td>1000.000000</td>\n",
       "      <td>1000.000000</td>\n",
       "      <td>1000.000000</td>\n",
       "    </tr>\n",
       "    <tr>\n",
       "      <th>mean</th>\n",
       "      <td>9.395000</td>\n",
       "      <td>30.322040</td>\n",
       "      <td>289.113000</td>\n",
       "    </tr>\n",
       "    <tr>\n",
       "      <th>std</th>\n",
       "      <td>9.659207</td>\n",
       "      <td>12.256488</td>\n",
       "      <td>345.227596</td>\n",
       "    </tr>\n",
       "    <tr>\n",
       "      <th>min</th>\n",
       "      <td>1.000000</td>\n",
       "      <td>10.030000</td>\n",
       "      <td>10.350000</td>\n",
       "    </tr>\n",
       "    <tr>\n",
       "      <th>25%</th>\n",
       "      <td>4.000000</td>\n",
       "      <td>21.085000</td>\n",
       "      <td>93.687500</td>\n",
       "    </tr>\n",
       "    <tr>\n",
       "      <th>50%</th>\n",
       "      <td>6.500000</td>\n",
       "      <td>28.570000</td>\n",
       "      <td>178.360000</td>\n",
       "    </tr>\n",
       "    <tr>\n",
       "      <th>75%</th>\n",
       "      <td>10.000000</td>\n",
       "      <td>37.917500</td>\n",
       "      <td>321.690000</td>\n",
       "    </tr>\n",
       "    <tr>\n",
       "      <th>max</th>\n",
       "      <td>40.000000</td>\n",
       "      <td>66.620000</td>\n",
       "      <td>2546.330000</td>\n",
       "    </tr>\n",
       "  </tbody>\n",
       "</table>\n",
       "</div>"
      ],
      "text/plain": [
       "          quantity   unit_price        total\n",
       "count  1000.000000  1000.000000  1000.000000\n",
       "mean      9.395000    30.322040   289.113000\n",
       "std       9.659207    12.256488   345.227596\n",
       "min       1.000000    10.030000    10.350000\n",
       "25%       4.000000    21.085000    93.687500\n",
       "50%       6.500000    28.570000   178.360000\n",
       "75%      10.000000    37.917500   321.690000\n",
       "max      40.000000    66.620000  2546.330000"
      ]
     },
     "execution_count": 27,
     "metadata": {},
     "output_type": "execute_result"
    }
   ],
   "source": [
    "\n",
    "df.describe()"
   ]
  },
  {
   "cell_type": "code",
   "execution_count": null,
   "id": "ef7c13ba-a15f-42ae-9f5d-41cf2e22bd85",
   "metadata": {},
   "outputs": [
    {
     "name": "stdout",
     "output_type": "stream",
     "text": [
      "<class 'pandas.core.frame.DataFrame'>\n",
      "RangeIndex: 1000 entries, 0 to 999\n",
      "Data columns (total 8 columns):\n",
      " #   Column        Non-Null Count  Dtype         \n",
      "---  ------        --------------  -----         \n",
      " 0   date          1000 non-null   datetime64[ns]\n",
      " 1   warehouse     1000 non-null   object        \n",
      " 2   client_type   1000 non-null   object        \n",
      " 3   product_line  1000 non-null   object        \n",
      " 4   quantity      1000 non-null   int64         \n",
      " 5   unit_price    1000 non-null   float64       \n",
      " 6   total         1000 non-null   float64       \n",
      " 7   payment       1000 non-null   object        \n",
      "dtypes: datetime64[ns](1), float64(2), int64(1), object(4)\n",
      "memory usage: 62.6+ KB\n"
     ]
    }
   ],
   "source": [
    "df.info()"
   ]
  },
  {
   "cell_type": "code",
   "execution_count": null,
   "id": "d061d637-9c00-4443-8231-4ed605991c99",
   "metadata": {},
   "outputs": [
    {
     "data": {
      "text/plain": [
       "date            0\n",
       "warehouse       0\n",
       "client_type     0\n",
       "product_line    0\n",
       "quantity        0\n",
       "unit_price      0\n",
       "total           0\n",
       "payment         0\n",
       "dtype: int64"
      ]
     },
     "execution_count": 29,
     "metadata": {},
     "output_type": "execute_result"
    }
   ],
   "source": [
    "df.isnull().sum()"
   ]
  },
  {
   "cell_type": "markdown",
   "id": "e57a7a38-fb34-4ba8-bb50-66de02063971",
   "metadata": {},
   "source": [
    "# Extracting Day and Month name from date"
   ]
  },
  {
   "cell_type": "code",
   "execution_count": null,
   "id": "5f7e8158-e5c6-4277-9403-fdf9551c8bc6",
   "metadata": {},
   "outputs": [],
   "source": [
    "df[\"Week_day\"]=df[\"date\"].dt.day_name()\n",
    "df[\"Month\"]=df[\"date\"].dt.month_name()"
   ]
  },
  {
   "cell_type": "markdown",
   "id": "66c21729-cabb-4aa6-a049-2eb535e5349a",
   "metadata": {},
   "source": [
    "# What are the total sales for each payment method?\n"
   ]
  },
  {
   "cell_type": "code",
   "execution_count": null,
   "id": "5d4e35b9",
   "metadata": {},
   "outputs": [
    {
     "data": {
      "application/com.datacamp.data-table.v1+json": {
       "is_truncated": false,
       "table": {
        "data": [
         {
          "index": 2,
          "payment": "Transfer",
          "total": 159642.33
         },
         {
          "index": 1,
          "payment": "Credit card",
          "total": 110271.57
         },
         {
          "index": 0,
          "payment": "Cash",
          "total": 19199.1
         }
        ],
        "schema": {
         "fields": [
          {
           "name": "index",
           "type": "integer"
          },
          {
           "name": "payment",
           "type": "string"
          },
          {
           "name": "total",
           "type": "number"
          }
         ],
         "pandas_version": "0.20.0",
         "primaryKey": [
          "index"
         ]
        }
       },
       "total_rows": 3
      },
      "text/html": [
       "<div>\n",
       "<style scoped>\n",
       "    .dataframe tbody tr th:only-of-type {\n",
       "        vertical-align: middle;\n",
       "    }\n",
       "\n",
       "    .dataframe tbody tr th {\n",
       "        vertical-align: top;\n",
       "    }\n",
       "\n",
       "    .dataframe thead th {\n",
       "        text-align: right;\n",
       "    }\n",
       "</style>\n",
       "<table border=\"1\" class=\"dataframe\">\n",
       "  <thead>\n",
       "    <tr style=\"text-align: right;\">\n",
       "      <th></th>\n",
       "      <th>payment</th>\n",
       "      <th>total</th>\n",
       "    </tr>\n",
       "  </thead>\n",
       "  <tbody>\n",
       "    <tr>\n",
       "      <th>2</th>\n",
       "      <td>Transfer</td>\n",
       "      <td>159642.33</td>\n",
       "    </tr>\n",
       "    <tr>\n",
       "      <th>1</th>\n",
       "      <td>Credit card</td>\n",
       "      <td>110271.57</td>\n",
       "    </tr>\n",
       "    <tr>\n",
       "      <th>0</th>\n",
       "      <td>Cash</td>\n",
       "      <td>19199.10</td>\n",
       "    </tr>\n",
       "  </tbody>\n",
       "</table>\n",
       "</div>"
      ],
      "text/plain": [
       "       payment      total\n",
       "2     Transfer  159642.33\n",
       "1  Credit card  110271.57\n",
       "0         Cash   19199.10"
      ]
     },
     "execution_count": 34,
     "metadata": {},
     "output_type": "execute_result"
    }
   ],
   "source": [
    "df.groupby('payment')[['total']].sum().reset_index().sort_values('total',ascending=False)"
   ]
  },
  {
   "cell_type": "code",
   "execution_count": null,
   "id": "d53474f6-4b63-4a4f-83ca-e0f08be3a536",
   "metadata": {},
   "outputs": [
    {
     "data": {
      "image/png": "[encoded data removed]",
      "text/plain": [
       "<Figure size 536.814x379.44 with 1 Axes>"
      ]
     },
     "metadata": {
      "needs_background": "light"
     },
     "output_type": "display_data"
    }
   ],
   "source": [
    "g=sns.catplot(x='payment',y='total',\n",
    "            data=df,\n",
    "            kind=\"bar\",\n",
    "            ci=None,\n",
    "            height=5.27,\n",
    "            aspect=11.7/8.27)\n",
    "\n",
    "g.fig.suptitle(\"total sales for each payment method\",y=1.03)\n",
    "\n",
    "\n",
    "plt.show()"
   ]
  },
  {
   "cell_type": "markdown",
   "id": "bc7ddffe-4c72-4637-80d8-258d96d75c97",
   "metadata": {},
   "source": [
    "\n",
    "# 2. What is the average unit price for each product line?"
   ]
  },
  {
   "cell_type": "code",
   "execution_count": null,
   "id": "275e9fce-8ce0-4cfc-9ef2-773f90774727",
   "metadata": {},
   "outputs": [
    {
     "data": {
      "application/com.datacamp.data-table.v1+json": {
       "is_truncated": false,
       "table": {
        "data": [
         {
          "index": 2,
          "product_line": "Engine",
          "unit_price": 60.0918032787
         },
         {
          "index": 3,
          "product_line": "Frame & body",
          "unit_price": 42.8322289157
         },
         {
          "index": 5,
          "product_line": "Suspension & traction",
          "unit_price": 33.9698684211
         },
         {
          "index": 1,
          "product_line": "Electrical system",
          "unit_price": 25.5851295337
         },
         {
          "index": 4,
          "product_line": "Miscellaneous",
          "unit_price": 22.8107377049
         },
         {
          "index": 0,
          "product_line": "Breaking system",
          "unit_price": 17.7405217391
         }
        ],
        "schema": {
         "fields": [
          {
           "name": "index",
           "type": "integer"
          },
          {
           "name": "product_line",
           "type": "string"
          },
          {
           "name": "unit_price",
           "type": "number"
          }
         ],
         "pandas_version": "0.20.0",
         "primaryKey": [
          "index"
         ]
        }
       },
       "total_rows": 6
      },
      "text/html": [
       "<div>\n",
       "<style scoped>\n",
       "    .dataframe tbody tr th:only-of-type {\n",
       "        vertical-align: middle;\n",
       "    }\n",
       "\n",
       "    .dataframe tbody tr th {\n",
       "        vertical-align: top;\n",
       "    }\n",
       "\n",
       "    .dataframe thead th {\n",
       "        text-align: right;\n",
       "    }\n",
       "</style>\n",
       "<table border=\"1\" class=\"dataframe\">\n",
       "  <thead>\n",
       "    <tr style=\"text-align: right;\">\n",
       "      <th></th>\n",
       "      <th>product_line</th>\n",
       "      <th>unit_price</th>\n",
       "    </tr>\n",
       "  </thead>\n",
       "  <tbody>\n",
       "    <tr>\n",
       "      <th>2</th>\n",
       "      <td>Engine</td>\n",
       "      <td>60.091803</td>\n",
       "    </tr>\n",
       "    <tr>\n",
       "      <th>3</th>\n",
       "      <td>Frame &amp; body</td>\n",
       "      <td>42.832229</td>\n",
       "    </tr>\n",
       "    <tr>\n",
       "      <th>5</th>\n",
       "      <td>Suspension &amp; traction</td>\n",
       "      <td>33.969868</td>\n",
       "    </tr>\n",
       "    <tr>\n",
       "      <th>1</th>\n",
       "      <td>Electrical system</td>\n",
       "      <td>25.585130</td>\n",
       "    </tr>\n",
       "    <tr>\n",
       "      <th>4</th>\n",
       "      <td>Miscellaneous</td>\n",
       "      <td>22.810738</td>\n",
       "    </tr>\n",
       "    <tr>\n",
       "      <th>0</th>\n",
       "      <td>Breaking system</td>\n",
       "      <td>17.740522</td>\n",
       "    </tr>\n",
       "  </tbody>\n",
       "</table>\n",
       "</div>"
      ],
      "text/plain": [
       "            product_line  unit_price\n",
       "2                 Engine   60.091803\n",
       "3           Frame & body   42.832229\n",
       "5  Suspension & traction   33.969868\n",
       "1      Electrical system   25.585130\n",
       "4          Miscellaneous   22.810738\n",
       "0        Breaking system   17.740522"
      ]
     },
     "execution_count": 37,
     "metadata": {},
     "output_type": "execute_result"
    }
   ],
   "source": [
    "df.groupby('product_line')[['unit_price']].mean().reset_index().sort_values('unit_price',ascending=False)\n"
   ]
  },
  {
   "cell_type": "code",
   "execution_count": null,
   "id": "1a3b3658-a3be-42fb-b3f6-0cf5a13cf01e",
   "metadata": {},
   "outputs": [
    {
     "data": {
      "image/png": "[encoded data removed]",
      "text/plain": [
       "<Figure size 536.814x379.44 with 1 Axes>"
      ]
     },
     "metadata": {
      "needs_background": "light"
     },
     "output_type": "display_data"
    }
   ],
   "source": [
    "\n",
    "g=sns.catplot(x='product_line',y='unit_price',\n",
    "            data=df,\n",
    "            kind=\"bar\",\n",
    "            ci=None,\n",
    "            height=5.27,\n",
    "            aspect=11.7/8.27)\n",
    "plt.xticks(rotation=90)\n",
    "g.fig.suptitle(\"Average unit price for each Product line\",y=1.03)\n",
    "\n",
    "plt.show()"
   ]
  },
  {
   "cell_type": "code",
   "execution_count": null,
   "id": "02c472e8-c412-40c5-99b5-a7ba493b082b",
   "metadata": {},
   "outputs": [
    {
     "data": {
      "image/png": "[encoded data removed]",
      "text/plain": [
       "<Figure size 536.814x379.44 with 1 Axes>"
      ]
     },
     "metadata": {
      "needs_background": "light"
     },
     "output_type": "display_data"
    }
   ],
   "source": [
    "\n",
    "g=sns.catplot(x='product_line', y='unit_price',\n",
    "            data= df,\n",
    "            kind='box',\n",
    "            height=5.27,\n",
    "            aspect=11.7/8.27)\n",
    "g.fig.suptitle(\"Average unit price for each Product line\", y=1.02)\n",
    "plt.xticks(rotation=90)\n",
    "plt.show()"
   ]
  },
  {
   "cell_type": "markdown",
   "id": "7edebe66-c773-44ec-a4af-390a6312c0bd",
   "metadata": {},
   "source": [
    "# total purchase value by client type"
   ]
  },
  {
   "cell_type": "code",
   "execution_count": null,
   "id": "06514879-d2bd-494d-b64e-b5a704e6e95f",
   "metadata": {},
   "outputs": [
    {
     "data": {
      "application/com.datacamp.data-table.v1+json": {
       "is_truncated": false,
       "table": {
        "data": [
         {
          "client_type": "Wholesale",
          "index": 1,
          "total": 159642.33
         },
         {
          "client_type": "Retail",
          "index": 0,
          "total": 129470.67
         }
        ],
        "schema": {
         "fields": [
          {
           "name": "index",
           "type": "integer"
          },
          {
           "name": "client_type",
           "type": "string"
          },
          {
           "name": "total",
           "type": "number"
          }
         ],
         "pandas_version": "0.20.0",
         "primaryKey": [
          "index"
         ]
        }
       },
       "total_rows": 2
      },
      "text/html": [
       "<div>\n",
       "<style scoped>\n",
       "    .dataframe tbody tr th:only-of-type {\n",
       "        vertical-align: middle;\n",
       "    }\n",
       "\n",
       "    .dataframe tbody tr th {\n",
       "        vertical-align: top;\n",
       "    }\n",
       "\n",
       "    .dataframe thead th {\n",
       "        text-align: right;\n",
       "    }\n",
       "</style>\n",
       "<table border=\"1\" class=\"dataframe\">\n",
       "  <thead>\n",
       "    <tr style=\"text-align: right;\">\n",
       "      <th></th>\n",
       "      <th>client_type</th>\n",
       "      <th>total</th>\n",
       "    </tr>\n",
       "  </thead>\n",
       "  <tbody>\n",
       "    <tr>\n",
       "      <th>1</th>\n",
       "      <td>Wholesale</td>\n",
       "      <td>159642.33</td>\n",
       "    </tr>\n",
       "    <tr>\n",
       "      <th>0</th>\n",
       "      <td>Retail</td>\n",
       "      <td>129470.67</td>\n",
       "    </tr>\n",
       "  </tbody>\n",
       "</table>\n",
       "</div>"
      ],
      "text/plain": [
       "  client_type      total\n",
       "1   Wholesale  159642.33\n",
       "0      Retail  129470.67"
      ]
     },
     "execution_count": 40,
     "metadata": {},
     "output_type": "execute_result"
    }
   ],
   "source": [
    "df.groupby('client_type')[['total']].sum().reset_index().sort_values('total',ascending=False)"
   ]
  },
  {
   "cell_type": "code",
   "execution_count": null,
   "id": "8bc6a697-1c78-44bf-921f-4c761a1b7223",
   "metadata": {},
   "outputs": [
    {
     "data": {
      "image/png": "[encoded data removed]",
      "text/plain": [
       "<Figure size 536.814x379.44 with 1 Axes>"
      ]
     },
     "metadata": {
      "needs_background": "light"
     },
     "output_type": "display_data"
    }
   ],
   "source": [
    "g=sns.catplot(x='client_type',y='total',\n",
    "            data=df,\n",
    "            kind=\"bar\",\n",
    "            ci=None,\n",
    "            height=5.27,\n",
    "            aspect=11.7/8.27)\n",
    "g.fig.suptitle(\"total purchase value by client type\",y=1.03)\n",
    "plt.show()"
   ]
  },
  {
   "cell_type": "markdown",
   "id": "0d93c9fd-4450-496e-b43b-949468094542",
   "metadata": {},
   "source": [
    "# Average unit price for each Product line"
   ]
  },
  {
   "cell_type": "code",
   "execution_count": null,
   "id": "abe8caeb-97c1-4be3-beee-03f2ba896d03",
   "metadata": {},
   "outputs": [
    {
     "data": {
      "application/com.datacamp.data-table.v1+json": {
       "is_truncated": false,
       "table": {
        "data": [
         {
          "index": 2,
          "product_line": "Engine",
          "unit_price": 60.0918032787
         },
         {
          "index": 3,
          "product_line": "Frame & body",
          "unit_price": 42.8322289157
         },
         {
          "index": 5,
          "product_line": "Suspension & traction",
          "unit_price": 33.9698684211
         },
         {
          "index": 1,
          "product_line": "Electrical system",
          "unit_price": 25.5851295337
         },
         {
          "index": 4,
          "product_line": "Miscellaneous",
          "unit_price": 22.8107377049
         },
         {
          "index": 0,
          "product_line": "Breaking system",
          "unit_price": 17.7405217391
         }
        ],
        "schema": {
         "fields": [
          {
           "name": "index",
           "type": "integer"
          },
          {
           "name": "product_line",
           "type": "string"
          },
          {
           "name": "unit_price",
           "type": "number"
          }
         ],
         "pandas_version": "0.20.0",
         "primaryKey": [
          "index"
         ]
        }
       },
       "total_rows": 6
      },
      "text/html": [
       "<div>\n",
       "<style scoped>\n",
       "    .dataframe tbody tr th:only-of-type {\n",
       "        vertical-align: middle;\n",
       "    }\n",
       "\n",
       "    .dataframe tbody tr th {\n",
       "        vertical-align: top;\n",
       "    }\n",
       "\n",
       "    .dataframe thead th {\n",
       "        text-align: right;\n",
       "    }\n",
       "</style>\n",
       "<table border=\"1\" class=\"dataframe\">\n",
       "  <thead>\n",
       "    <tr style=\"text-align: right;\">\n",
       "      <th></th>\n",
       "      <th>product_line</th>\n",
       "      <th>unit_price</th>\n",
       "    </tr>\n",
       "  </thead>\n",
       "  <tbody>\n",
       "    <tr>\n",
       "      <th>2</th>\n",
       "      <td>Engine</td>\n",
       "      <td>60.091803</td>\n",
       "    </tr>\n",
       "    <tr>\n",
       "      <th>3</th>\n",
       "      <td>Frame &amp; body</td>\n",
       "      <td>42.832229</td>\n",
       "    </tr>\n",
       "    <tr>\n",
       "      <th>5</th>\n",
       "      <td>Suspension &amp; traction</td>\n",
       "      <td>33.969868</td>\n",
       "    </tr>\n",
       "    <tr>\n",
       "      <th>1</th>\n",
       "      <td>Electrical system</td>\n",
       "      <td>25.585130</td>\n",
       "    </tr>\n",
       "    <tr>\n",
       "      <th>4</th>\n",
       "      <td>Miscellaneous</td>\n",
       "      <td>22.810738</td>\n",
       "    </tr>\n",
       "    <tr>\n",
       "      <th>0</th>\n",
       "      <td>Breaking system</td>\n",
       "      <td>17.740522</td>\n",
       "    </tr>\n",
       "  </tbody>\n",
       "</table>\n",
       "</div>"
      ],
      "text/plain": [
       "            product_line  unit_price\n",
       "2                 Engine   60.091803\n",
       "3           Frame & body   42.832229\n",
       "5  Suspension & traction   33.969868\n",
       "1      Electrical system   25.585130\n",
       "4          Miscellaneous   22.810738\n",
       "0        Breaking system   17.740522"
      ]
     },
     "execution_count": 42,
     "metadata": {},
     "output_type": "execute_result"
    }
   ],
   "source": [
    "df.groupby('product_line')[['unit_price']].mean().reset_index().sort_values('unit_price',ascending=False)"
   ]
  },
  {
   "cell_type": "code",
   "execution_count": null,
   "id": "d6a63646-6124-4aa6-8f92-9a06881c1f08",
   "metadata": {},
   "outputs": [
    {
     "data": {
      "image/png": "[encoded data removed]",
      "text/plain": [
       "<Figure size 536.814x379.44 with 1 Axes>"
      ]
     },
     "metadata": {
      "needs_background": "light"
     },
     "output_type": "display_data"
    }
   ],
   "source": [
    "g= sns.catplot(x='product_line',y='unit_price',\n",
    "            data=df,\n",
    "            kind=\"bar\",\n",
    "            ci=None,\n",
    "            height=5.27,\n",
    "            aspect=11.7/8.27)\n",
    "g.fig.suptitle(\"Average unit price for each Product line\", y=1.02)\n",
    "plt.xticks(rotation=90)\n",
    "plt.show()"
   ]
  },
  {
   "cell_type": "markdown",
   "id": "98c825da-a6b1-4e8a-9c83-3d8fb33cfc63",
   "metadata": {},
   "source": [
    "# Average purchase value by client type"
   ]
  },
  {
   "cell_type": "code",
   "execution_count": null,
   "id": "f22ff097-4458-4c8e-902e-3164d9e717d3",
   "metadata": {},
   "outputs": [
    {
     "data": {
      "application/com.datacamp.data-table.v1+json": {
       "is_truncated": false,
       "table": {
        "data": [
         {
          "client_type": "Wholesale",
          "index": 1,
          "total": 709.5214666667
         },
         {
          "client_type": "Retail",
          "index": 0,
          "total": 167.0589290323
         }
        ],
        "schema": {
         "fields": [
          {
           "name": "index",
           "type": "integer"
          },
          {
           "name": "client_type",
           "type": "string"
          },
          {
           "name": "total",
           "type": "number"
          }
         ],
         "pandas_version": "0.20.0",
         "primaryKey": [
          "index"
         ]
        }
       },
       "total_rows": 2
      },
      "text/html": [
       "<div>\n",
       "<style scoped>\n",
       "    .dataframe tbody tr th:only-of-type {\n",
       "        vertical-align: middle;\n",
       "    }\n",
       "\n",
       "    .dataframe tbody tr th {\n",
       "        vertical-align: top;\n",
       "    }\n",
       "\n",
       "    .dataframe thead th {\n",
       "        text-align: right;\n",
       "    }\n",
       "</style>\n",
       "<table border=\"1\" class=\"dataframe\">\n",
       "  <thead>\n",
       "    <tr style=\"text-align: right;\">\n",
       "      <th></th>\n",
       "      <th>client_type</th>\n",
       "      <th>total</th>\n",
       "    </tr>\n",
       "  </thead>\n",
       "  <tbody>\n",
       "    <tr>\n",
       "      <th>1</th>\n",
       "      <td>Wholesale</td>\n",
       "      <td>709.521467</td>\n",
       "    </tr>\n",
       "    <tr>\n",
       "      <th>0</th>\n",
       "      <td>Retail</td>\n",
       "      <td>167.058929</td>\n",
       "    </tr>\n",
       "  </tbody>\n",
       "</table>\n",
       "</div>"
      ],
      "text/plain": [
       "  client_type       total\n",
       "1   Wholesale  709.521467\n",
       "0      Retail  167.058929"
      ]
     },
     "execution_count": 45,
     "metadata": {},
     "output_type": "execute_result"
    }
   ],
   "source": [
    "df.groupby('client_type')[['total']].mean().reset_index().sort_values('total',ascending=False)"
   ]
  },
  {
   "cell_type": "code",
   "execution_count": null,
   "id": "dff901c1-ad19-48ea-bd3e-636e36caacfc",
   "metadata": {},
   "outputs": [
    {
     "data": {
      "image/png": "[encoded data removed]",
      "text/plain": [
       "<Figure size 536.814x379.44 with 1 Axes>"
      ]
     },
     "metadata": {
      "needs_background": "light"
     },
     "output_type": "display_data"
    }
   ],
   "source": [
    "g=sns.catplot(x='client_type',y='total',\n",
    "            data=df,\n",
    "            kind=\"bar\",\n",
    "            ci=None,\n",
    "            height=5.27,\n",
    "            aspect=11.7/8.27)\n",
    "g.fig.suptitle(\"Average purchase value by client type\", y=1.02)\n",
    "plt.show()"
   ]
  },
  {
   "cell_type": "code",
   "execution_count": null,
   "id": "d75ea315-eb59-4a30-b0ec-e95f5871093f",
   "metadata": {},
   "outputs": [
    {
     "data": {
      "application/com.datacamp.data-table.v1+json": {
       "is_truncated": false,
       "table": {
        "data": [
         {
          "index": 5,
          "product_line": "Suspension & traction",
          "total": 73014.21
         },
         {
          "index": 3,
          "product_line": "Frame & body",
          "total": 69024.73
         },
         {
          "index": 1,
          "product_line": "Electrical system",
          "total": 43612.71
         },
         {
          "index": 0,
          "product_line": "Breaking system",
          "total": 38350.15
         },
         {
          "index": 2,
          "product_line": "Engine",
          "total": 37945.38
         },
         {
          "index": 4,
          "product_line": "Miscellaneous",
          "total": 27165.82
         }
        ],
        "schema": {
         "fields": [
          {
           "name": "index",
           "type": "integer"
          },
          {
           "name": "product_line",
           "type": "string"
          },
          {
           "name": "total",
           "type": "number"
          }
         ],
         "pandas_version": "0.20.0",
         "primaryKey": [
          "index"
         ]
        }
       },
       "total_rows": 6
      },
      "text/html": [
       "<div>\n",
       "<style scoped>\n",
       "    .dataframe tbody tr th:only-of-type {\n",
       "        vertical-align: middle;\n",
       "    }\n",
       "\n",
       "    .dataframe tbody tr th {\n",
       "        vertical-align: top;\n",
       "    }\n",
       "\n",
       "    .dataframe thead th {\n",
       "        text-align: right;\n",
       "    }\n",
       "</style>\n",
       "<table border=\"1\" class=\"dataframe\">\n",
       "  <thead>\n",
       "    <tr style=\"text-align: right;\">\n",
       "      <th></th>\n",
       "      <th>product_line</th>\n",
       "      <th>total</th>\n",
       "    </tr>\n",
       "  </thead>\n",
       "  <tbody>\n",
       "    <tr>\n",
       "      <th>5</th>\n",
       "      <td>Suspension &amp; traction</td>\n",
       "      <td>73014.21</td>\n",
       "    </tr>\n",
       "    <tr>\n",
       "      <th>3</th>\n",
       "      <td>Frame &amp; body</td>\n",
       "      <td>69024.73</td>\n",
       "    </tr>\n",
       "    <tr>\n",
       "      <th>1</th>\n",
       "      <td>Electrical system</td>\n",
       "      <td>43612.71</td>\n",
       "    </tr>\n",
       "    <tr>\n",
       "      <th>0</th>\n",
       "      <td>Breaking system</td>\n",
       "      <td>38350.15</td>\n",
       "    </tr>\n",
       "    <tr>\n",
       "      <th>2</th>\n",
       "      <td>Engine</td>\n",
       "      <td>37945.38</td>\n",
       "    </tr>\n",
       "    <tr>\n",
       "      <th>4</th>\n",
       "      <td>Miscellaneous</td>\n",
       "      <td>27165.82</td>\n",
       "    </tr>\n",
       "  </tbody>\n",
       "</table>\n",
       "</div>"
      ],
      "text/plain": [
       "            product_line     total\n",
       "5  Suspension & traction  73014.21\n",
       "3           Frame & body  69024.73\n",
       "1      Electrical system  43612.71\n",
       "0        Breaking system  38350.15\n",
       "2                 Engine  37945.38\n",
       "4          Miscellaneous  27165.82"
      ]
     },
     "execution_count": 47,
     "metadata": {},
     "output_type": "execute_result"
    }
   ],
   "source": [
    "df.groupby('product_line')[['total']].sum().reset_index().sort_values('total',ascending=False)"
   ]
  },
  {
   "cell_type": "code",
   "execution_count": null,
   "id": "3cb01d50-a63a-4258-b19b-0af258c791bf",
   "metadata": {},
   "outputs": [
    {
     "data": {
      "image/png": "[encoded data removed]",
      "text/plain": [
       "<Figure size 536.814x379.44 with 1 Axes>"
      ]
     },
     "metadata": {
      "needs_background": "light"
     },
     "output_type": "display_data"
    }
   ],
   "source": [
    "g=sns.catplot(x='product_line',y='total',\n",
    "            data=df,\n",
    "            kind=\"bar\",\n",
    "            ci=None,\n",
    "            height=5.27,\n",
    "            aspect=11.7/8.27)\n",
    "g.fig.suptitle(\"Total Purchase Value for each Product line\",y=1.02)\n",
    "plt.xticks(rotation=90)\n",
    "plt.show()"
   ]
  },
  {
   "cell_type": "markdown",
   "id": "29ed21c3-6a0e-42f8-85ec-7bb79fbf631e",
   "metadata": {},
   "source": [
    "## Average Total Value for every Month"
   ]
  },
  {
   "cell_type": "code",
   "execution_count": null,
   "id": "9262730c-e68c-4d83-9f12-e2f746d3b828",
   "metadata": {},
   "outputs": [
    {
     "data": {
      "application/com.datacamp.data-table.v1+json": {
       "is_truncated": false,
       "table": {
        "data": [
         {
          "Month": "August",
          "index": 0,
          "total": 316.2304731861
         },
         {
          "Month": "June",
          "index": 2,
          "total": 282.0119230769
         },
         {
          "Month": "July",
          "index": 1,
          "total": 271.1533623188
         }
        ],
        "schema": {
         "fields": [
          {
           "name": "index",
           "type": "integer"
          },
          {
           "name": "Month",
           "type": "string"
          },
          {
           "name": "total",
           "type": "number"
          }
         ],
         "pandas_version": "0.20.0",
         "primaryKey": [
          "index"
         ]
        }
       },
       "total_rows": 3
      },
      "text/html": [
       "<div>\n",
       "<style scoped>\n",
       "    .dataframe tbody tr th:only-of-type {\n",
       "        vertical-align: middle;\n",
       "    }\n",
       "\n",
       "    .dataframe tbody tr th {\n",
       "        vertical-align: top;\n",
       "    }\n",
       "\n",
       "    .dataframe thead th {\n",
       "        text-align: right;\n",
       "    }\n",
       "</style>\n",
       "<table border=\"1\" class=\"dataframe\">\n",
       "  <thead>\n",
       "    <tr style=\"text-align: right;\">\n",
       "      <th></th>\n",
       "      <th>Month</th>\n",
       "      <th>total</th>\n",
       "    </tr>\n",
       "  </thead>\n",
       "  <tbody>\n",
       "    <tr>\n",
       "      <th>0</th>\n",
       "      <td>August</td>\n",
       "      <td>316.230473</td>\n",
       "    </tr>\n",
       "    <tr>\n",
       "      <th>2</th>\n",
       "      <td>June</td>\n",
       "      <td>282.011923</td>\n",
       "    </tr>\n",
       "    <tr>\n",
       "      <th>1</th>\n",
       "      <td>July</td>\n",
       "      <td>271.153362</td>\n",
       "    </tr>\n",
       "  </tbody>\n",
       "</table>\n",
       "</div>"
      ],
      "text/plain": [
       "    Month       total\n",
       "0  August  316.230473\n",
       "2    June  282.011923\n",
       "1    July  271.153362"
      ]
     },
     "execution_count": 51,
     "metadata": {},
     "output_type": "execute_result"
    }
   ],
   "source": [
    "df.groupby([\"Month\"])[[\"total\"]].mean().reset_index().sort_values('total',ascending= False)\n"
   ]
  },
  {
   "cell_type": "code",
   "execution_count": null,
   "id": "f4a8ba92-3247-4f43-9e12-b896a3116120",
   "metadata": {},
   "outputs": [
    {
     "data": {
      "image/png": "[encoded data removed]",
      "text/plain": [
       "<Figure size 536.814x379.44 with 1 Axes>"
      ]
     },
     "metadata": {
      "needs_background": "light"
     },
     "output_type": "display_data"
    }
   ],
   "source": [
    "g=sns.catplot(x='Month',y='total',\n",
    "            data=df,\n",
    "            kind=\"bar\",\n",
    "            ci=None,\n",
    "            height=5.27,\n",
    "            aspect=11.7/8.27)\n",
    "g.fig.suptitle('Average Total Value for every Month',y=1.02)\n",
    "plt.show()"
   ]
  },
  {
   "cell_type": "markdown",
   "id": "4febd2b0-47c9-45a0-8bfd-b0e26a18fafa",
   "metadata": {},
   "source": [
    "# Total sales across different times"
   ]
  },
  {
   "cell_type": "code",
   "execution_count": null,
   "id": "28ce0fc4-eecc-424e-9bb4-de7f9fd0ab68",
   "metadata": {},
   "outputs": [
    {
     "data": {
      "image/png": "[encoded data removed]",
      "text/plain": [
       "<Figure size 536.814x379.44 with 1 Axes>"
      ]
     },
     "metadata": {
      "needs_background": "light"
     },
     "output_type": "display_data"
    }
   ],
   "source": [
    "g=sns.relplot(x=\"date\", \n",
    "            y=\"total\", \n",
    "            data=df,\n",
    "            kind=\"line\",\n",
    "            ci = None,\n",
    "            height=5.27,\n",
    "            aspect=11.7/8.27)\n",
    "\n",
    "g.fig.suptitle(\"Total sales across different times\",y=1.02)\n",
    "plt.xticks(rotation=90)    \n",
    "plt.show()"
   ]
  },
  {
   "cell_type": "markdown",
   "id": "b930d745-cd47-44b6-9a94-783e6f57a8e0",
   "metadata": {},
   "source": [
    "## Total Sales Value for every Warehouse"
   ]
  },
  {
   "cell_type": "code",
   "execution_count": null,
   "id": "4ee88777-f894-4724-986f-b4246a63fd29",
   "metadata": {},
   "outputs": [
    {
     "data": {
      "application/com.datacamp.data-table.v1+json": {
       "is_truncated": false,
       "table": {
        "data": [
         {
          "index": 0,
          "total": 141982.88,
          "warehouse": "Central"
         },
         {
          "index": 1,
          "total": 100203.63,
          "warehouse": "North"
         },
         {
          "index": 2,
          "total": 46926.49,
          "warehouse": "West"
         }
        ],
        "schema": {
         "fields": [
          {
           "name": "index",
           "type": "integer"
          },
          {
           "name": "warehouse",
           "type": "string"
          },
          {
           "name": "total",
           "type": "number"
          }
         ],
         "pandas_version": "0.20.0",
         "primaryKey": [
          "index"
         ]
        }
       },
       "total_rows": 3
      },
      "text/html": [
       "<div>\n",
       "<style scoped>\n",
       "    .dataframe tbody tr th:only-of-type {\n",
       "        vertical-align: middle;\n",
       "    }\n",
       "\n",
       "    .dataframe tbody tr th {\n",
       "        vertical-align: top;\n",
       "    }\n",
       "\n",
       "    .dataframe thead th {\n",
       "        text-align: right;\n",
       "    }\n",
       "</style>\n",
       "<table border=\"1\" class=\"dataframe\">\n",
       "  <thead>\n",
       "    <tr style=\"text-align: right;\">\n",
       "      <th></th>\n",
       "      <th>warehouse</th>\n",
       "      <th>total</th>\n",
       "    </tr>\n",
       "  </thead>\n",
       "  <tbody>\n",
       "    <tr>\n",
       "      <th>0</th>\n",
       "      <td>Central</td>\n",
       "      <td>141982.88</td>\n",
       "    </tr>\n",
       "    <tr>\n",
       "      <th>1</th>\n",
       "      <td>North</td>\n",
       "      <td>100203.63</td>\n",
       "    </tr>\n",
       "    <tr>\n",
       "      <th>2</th>\n",
       "      <td>West</td>\n",
       "      <td>46926.49</td>\n",
       "    </tr>\n",
       "  </tbody>\n",
       "</table>\n",
       "</div>"
      ],
      "text/plain": [
       "  warehouse      total\n",
       "0   Central  141982.88\n",
       "1     North  100203.63\n",
       "2      West   46926.49"
      ]
     },
     "execution_count": 53,
     "metadata": {},
     "output_type": "execute_result"
    }
   ],
   "source": [
    "df.groupby('warehouse')[['total']].sum().reset_index().sort_values('total',ascending= False)"
   ]
  },
  {
   "cell_type": "markdown",
   "id": "f4cdc08d-c0dc-42e1-93f1-8615e89ddf9a",
   "metadata": {},
   "source": [
    "## Total Sales Value for every Warehouse"
   ]
  },
  {
   "cell_type": "code",
   "execution_count": null,
   "id": "1da6f093-9d61-4764-88ef-919538e4ac0d",
   "metadata": {},
   "outputs": [
    {
     "data": {
      "image/png": "[encoded data removed]",
      "text/plain": [
       "<Figure size 536.814x379.44 with 1 Axes>"
      ]
     },
     "metadata": {
      "needs_background": "light"
     },
     "output_type": "display_data"
    }
   ],
   "source": [
    "g=sns.catplot(x='warehouse',y='total',\n",
    "            data=df,\n",
    "            kind=\"bar\",\n",
    "            ci=None,\n",
    "            height=5.27,\n",
    "            aspect=11.7/8.27)\n",
    "g.fig.suptitle('Total Sales Value for every Warehouse',y=1.02)\n",
    "plt.show()"
   ]
  },
  {
   "cell_type": "markdown",
   "id": "6c0744d0",
   "metadata": {},
   "source": [
    "## Summary\n",
    "\n",
    "Based on the 3 months data.Highest Total Sales value is coming from Payment Type Transfer and North warehouse is major contriutor to it.\n",
    "West warehoust is consistently reporting the Lowest average Total Sales value through out 3 months.\n",
    "Highest average Total value is coming in the month of August with Engine product line having mximum contributor to it..."
   ]
  }
 ],
 "metadata": {
  "kernelspec": {
   "display_name": "Python 3 (ipykernel)",
   "language": "python",
   "name": "python3"
  },
  "language_info": {
   "codemirror_mode": {
    "name": "ipython",
    "version": 3
   },
   "file_extension": ".py",
   "mimetype": "text/x-python",
   "name": "python",
   "nbconvert_exporter": "python",
   "pygments_lexer": "ipython3",
   "version": "3.8.10"
  }
 },
 "nbformat": 4,
 "nbformat_minor": 5
}
